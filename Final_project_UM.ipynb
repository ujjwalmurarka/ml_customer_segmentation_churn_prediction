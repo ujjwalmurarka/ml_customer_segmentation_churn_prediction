{
 "cells": [
  {
   "cell_type": "code",
   "execution_count": 1,
   "id": "ab6ecd2e",
   "metadata": {
    "scrolled": true,
    "slideshow": {
     "slide_type": "skip"
    }
   },
   "outputs": [],
   "source": [
    "# display output from every line without explicit print()\n",
    "from IPython.core.interactiveshell import InteractiveShell\n",
    "InteractiveShell.ast_node_interactivity = 'all'"
   ]
  },
  {
   "cell_type": "code",
   "execution_count": 2,
   "id": "c311672e",
   "metadata": {
    "scrolled": true,
    "slideshow": {
     "slide_type": "skip"
    }
   },
   "outputs": [],
   "source": [
    "import pandas as pd\n",
    "import plotnine as pn\n",
    "import statsmodels.api as sm\n",
    "import sklearn\n",
    "import sklearn.tree\n",
    "import pathlib\n",
    "import xgboost as xgb"
   ]
  },
  {
   "cell_type": "markdown",
   "id": "a1cbe236",
   "metadata": {
    "slideshow": {
     "slide_type": "slide"
    }
   },
   "source": [
    "# 1. Summary, background, and value proposition"
   ]
  },
  {
   "cell_type": "markdown",
   "id": "a858b203",
   "metadata": {
    "slideshow": {
     "slide_type": "subslide"
    }
   },
   "source": [
    "### Summary\n",
    "- The project evaluates a sample dataset of ~7,000 telecom customers from Q2-2022 to understand and predict customer churn\n",
    "- The key stakeholders include the CEO, COO, Chief Customer Officer, or Chief Marketing Officer\n",
    "- Each row of data captures the demographics, services used by the customer, payment and contract types, and status (churned, joined, or stayed)"
   ]
  },
  {
   "cell_type": "markdown",
   "id": "b939392a",
   "metadata": {
    "slideshow": {
     "slide_type": "subslide"
    }
   },
   "source": [
    "### Value Proposition\n",
    "\n",
    "- Customer retention is key to the success of a B2C businesses, such as Telecom. Use to data to predict customer churn and increase retention can save millions of dollars spent on customer acquisition\n",
    "- However, studying this is phenomenon is challenging given there are multiple moving parts including competitor response, variability of human behaviour, biased reporting of reasons for churn, etc.\n",
    "- Access to their own customer data is the biggest competitive advantage a business has that their competitors cannot replicate\n",
    "- Businesses can turn their competitive advantage into successful strategy by using the data to make smarter decisions vs. the competition\n",
    "- Such data analysis can also be used to perform customer persona assessments, create tailored marketing content, develop customer acquisition strategies, etc. "
   ]
  },
  {
   "cell_type": "markdown",
   "id": "d72fdeaf",
   "metadata": {
    "slideshow": {
     "slide_type": "subslide"
    }
   },
   "source": [
    "### Background\n",
    "- **Maping the data landscape:**\n",
    "    - `Data that exists`: Customer demographics, use of services, costs and payments\n",
    "    - `Data that might exist`: Customer feedback about the service across different social media and review platforms\n",
    "    - `Data that probably doesn't exist but could be useful`: Customer interactions with other competitors, customers search history, etc.\n",
    "- **Day in the life of data:**\n",
    "    - `Customer acquisition`: Generates a customer ID, captures the source of customer (referral, Facebook, TV or Radio advertisement, etc.), captures the demographics of the customer through the intake form\n",
    "    - `Customer operations`: captures the services being utilized by the customer. This stage should also be capturing any changes in the services over time. Customer operations potentially captures the active status of the customer as well. Additional data at this stage could be the call or service performance data i.e., number of call drops, average connectivity for the custoemrs,\n",
    "    - `Billing and finance`: captures the monthly charges, total revenue, extra charges, payment method, etc. Finance could also request a credict check on the customer\n",
    "    - `Marketing`: This stage would keep track of the offers and promotions going out to the customers, and customers response to those promotions"
   ]
  },
  {
   "cell_type": "markdown",
   "id": "f964cc08",
   "metadata": {
    "slideshow": {
     "slide_type": "slide"
    }
   },
   "source": [
    "# 2. Data acquisition and preprocessing"
   ]
  },
  {
   "cell_type": "markdown",
   "id": "21e7f747",
   "metadata": {
    "slideshow": {
     "slide_type": "subslide"
    }
   },
   "source": [
    "### Source of the dataset\n",
    "\n",
    "The dataset is taken from the Maven Churn Challenge <br>\n",
    "https://www.mavenanalytics.io/blog/maven-churn-challenge"
   ]
  },
  {
   "cell_type": "markdown",
   "id": "5e745bc1",
   "metadata": {
    "slideshow": {
     "slide_type": "subslide"
    }
   },
   "source": [
    "### Reading the data file"
   ]
  },
  {
   "cell_type": "code",
   "execution_count": 3,
   "id": "720f39ec",
   "metadata": {
    "slideshow": {
     "slide_type": "fragment"
    }
   },
   "outputs": [
    {
     "data": {
      "text/html": [
       "<div>\n",
       "<style scoped>\n",
       "    .dataframe tbody tr th:only-of-type {\n",
       "        vertical-align: middle;\n",
       "    }\n",
       "\n",
       "    .dataframe tbody tr th {\n",
       "        vertical-align: top;\n",
       "    }\n",
       "\n",
       "    .dataframe thead th {\n",
       "        text-align: right;\n",
       "    }\n",
       "</style>\n",
       "<table border=\"1\" class=\"dataframe\">\n",
       "  <thead>\n",
       "    <tr style=\"text-align: right;\">\n",
       "      <th></th>\n",
       "      <th>Customer ID</th>\n",
       "      <th>Gender</th>\n",
       "      <th>Age</th>\n",
       "      <th>Married</th>\n",
       "      <th>Number of Dependents</th>\n",
       "      <th>City</th>\n",
       "      <th>Zip Code</th>\n",
       "      <th>Latitude</th>\n",
       "      <th>Longitude</th>\n",
       "      <th>Number of Referrals</th>\n",
       "      <th>...</th>\n",
       "      <th>Payment Method</th>\n",
       "      <th>Monthly Charge</th>\n",
       "      <th>Total Charges</th>\n",
       "      <th>Total Refunds</th>\n",
       "      <th>Total Extra Data Charges</th>\n",
       "      <th>Total Long Distance Charges</th>\n",
       "      <th>Total Revenue</th>\n",
       "      <th>Customer Status</th>\n",
       "      <th>Churn Category</th>\n",
       "      <th>Churn Reason</th>\n",
       "    </tr>\n",
       "  </thead>\n",
       "  <tbody>\n",
       "    <tr>\n",
       "      <th>0</th>\n",
       "      <td>0002-ORFBO</td>\n",
       "      <td>Female</td>\n",
       "      <td>37</td>\n",
       "      <td>Yes</td>\n",
       "      <td>0</td>\n",
       "      <td>Frazier Park</td>\n",
       "      <td>93225</td>\n",
       "      <td>34.827662</td>\n",
       "      <td>-118.999073</td>\n",
       "      <td>2</td>\n",
       "      <td>...</td>\n",
       "      <td>Credit Card</td>\n",
       "      <td>65.6</td>\n",
       "      <td>593.30</td>\n",
       "      <td>0.00</td>\n",
       "      <td>0</td>\n",
       "      <td>381.51</td>\n",
       "      <td>974.81</td>\n",
       "      <td>Stayed</td>\n",
       "      <td>NaN</td>\n",
       "      <td>NaN</td>\n",
       "    </tr>\n",
       "    <tr>\n",
       "      <th>1</th>\n",
       "      <td>0003-MKNFE</td>\n",
       "      <td>Male</td>\n",
       "      <td>46</td>\n",
       "      <td>No</td>\n",
       "      <td>0</td>\n",
       "      <td>Glendale</td>\n",
       "      <td>91206</td>\n",
       "      <td>34.162515</td>\n",
       "      <td>-118.203869</td>\n",
       "      <td>0</td>\n",
       "      <td>...</td>\n",
       "      <td>Credit Card</td>\n",
       "      <td>-4.0</td>\n",
       "      <td>542.40</td>\n",
       "      <td>38.33</td>\n",
       "      <td>10</td>\n",
       "      <td>96.21</td>\n",
       "      <td>610.28</td>\n",
       "      <td>Stayed</td>\n",
       "      <td>NaN</td>\n",
       "      <td>NaN</td>\n",
       "    </tr>\n",
       "    <tr>\n",
       "      <th>2</th>\n",
       "      <td>0004-TLHLJ</td>\n",
       "      <td>Male</td>\n",
       "      <td>50</td>\n",
       "      <td>No</td>\n",
       "      <td>0</td>\n",
       "      <td>Costa Mesa</td>\n",
       "      <td>92627</td>\n",
       "      <td>33.645672</td>\n",
       "      <td>-117.922613</td>\n",
       "      <td>0</td>\n",
       "      <td>...</td>\n",
       "      <td>Bank Withdrawal</td>\n",
       "      <td>73.9</td>\n",
       "      <td>280.85</td>\n",
       "      <td>0.00</td>\n",
       "      <td>0</td>\n",
       "      <td>134.60</td>\n",
       "      <td>415.45</td>\n",
       "      <td>Churned</td>\n",
       "      <td>Competitor</td>\n",
       "      <td>Competitor had better devices</td>\n",
       "    </tr>\n",
       "    <tr>\n",
       "      <th>3</th>\n",
       "      <td>0011-IGKFF</td>\n",
       "      <td>Male</td>\n",
       "      <td>78</td>\n",
       "      <td>Yes</td>\n",
       "      <td>0</td>\n",
       "      <td>Martinez</td>\n",
       "      <td>94553</td>\n",
       "      <td>38.014457</td>\n",
       "      <td>-122.115432</td>\n",
       "      <td>1</td>\n",
       "      <td>...</td>\n",
       "      <td>Bank Withdrawal</td>\n",
       "      <td>98.0</td>\n",
       "      <td>1237.85</td>\n",
       "      <td>0.00</td>\n",
       "      <td>0</td>\n",
       "      <td>361.66</td>\n",
       "      <td>1599.51</td>\n",
       "      <td>Churned</td>\n",
       "      <td>Dissatisfaction</td>\n",
       "      <td>Product dissatisfaction</td>\n",
       "    </tr>\n",
       "    <tr>\n",
       "      <th>4</th>\n",
       "      <td>0013-EXCHZ</td>\n",
       "      <td>Female</td>\n",
       "      <td>75</td>\n",
       "      <td>Yes</td>\n",
       "      <td>0</td>\n",
       "      <td>Camarillo</td>\n",
       "      <td>93010</td>\n",
       "      <td>34.227846</td>\n",
       "      <td>-119.079903</td>\n",
       "      <td>3</td>\n",
       "      <td>...</td>\n",
       "      <td>Credit Card</td>\n",
       "      <td>83.9</td>\n",
       "      <td>267.40</td>\n",
       "      <td>0.00</td>\n",
       "      <td>0</td>\n",
       "      <td>22.14</td>\n",
       "      <td>289.54</td>\n",
       "      <td>Churned</td>\n",
       "      <td>Dissatisfaction</td>\n",
       "      <td>Network reliability</td>\n",
       "    </tr>\n",
       "  </tbody>\n",
       "</table>\n",
       "<p>5 rows × 38 columns</p>\n",
       "</div>"
      ],
      "text/plain": [
       "  Customer ID  Gender  Age Married  Number of Dependents          City  \\\n",
       "0  0002-ORFBO  Female   37     Yes                     0  Frazier Park   \n",
       "1  0003-MKNFE    Male   46      No                     0      Glendale   \n",
       "2  0004-TLHLJ    Male   50      No                     0    Costa Mesa   \n",
       "3  0011-IGKFF    Male   78     Yes                     0      Martinez   \n",
       "4  0013-EXCHZ  Female   75     Yes                     0     Camarillo   \n",
       "\n",
       "   Zip Code   Latitude   Longitude  Number of Referrals  ...   Payment Method  \\\n",
       "0     93225  34.827662 -118.999073                    2  ...      Credit Card   \n",
       "1     91206  34.162515 -118.203869                    0  ...      Credit Card   \n",
       "2     92627  33.645672 -117.922613                    0  ...  Bank Withdrawal   \n",
       "3     94553  38.014457 -122.115432                    1  ...  Bank Withdrawal   \n",
       "4     93010  34.227846 -119.079903                    3  ...      Credit Card   \n",
       "\n",
       "  Monthly Charge Total Charges  Total Refunds Total Extra Data Charges  \\\n",
       "0           65.6        593.30           0.00                        0   \n",
       "1           -4.0        542.40          38.33                       10   \n",
       "2           73.9        280.85           0.00                        0   \n",
       "3           98.0       1237.85           0.00                        0   \n",
       "4           83.9        267.40           0.00                        0   \n",
       "\n",
       "  Total Long Distance Charges Total Revenue  Customer Status   Churn Category  \\\n",
       "0                      381.51        974.81           Stayed              NaN   \n",
       "1                       96.21        610.28           Stayed              NaN   \n",
       "2                      134.60        415.45          Churned       Competitor   \n",
       "3                      361.66       1599.51          Churned  Dissatisfaction   \n",
       "4                       22.14        289.54          Churned  Dissatisfaction   \n",
       "\n",
       "                    Churn Reason  \n",
       "0                            NaN  \n",
       "1                            NaN  \n",
       "2  Competitor had better devices  \n",
       "3        Product dissatisfaction  \n",
       "4            Network reliability  \n",
       "\n",
       "[5 rows x 38 columns]"
      ]
     },
     "execution_count": 3,
     "metadata": {},
     "output_type": "execute_result"
    },
    {
     "name": "stdout",
     "output_type": "stream",
     "text": [
      "The dataset has 7043 rows and 38 columns\n"
     ]
    }
   ],
   "source": [
    "data_file_path = pathlib.Path('./data/telecom_customer_churn.csv')\n",
    "raw_df = pd.read_csv(data_file_path)\n",
    "raw_df.head()\n",
    "print('The dataset has {} rows and {} columns'.format(raw_df.shape[0],raw_df.shape[1]))"
   ]
  },
  {
   "cell_type": "markdown",
   "id": "11f096ff",
   "metadata": {
    "slideshow": {
     "slide_type": "subslide"
    }
   },
   "source": [
    "### Preprosessing the data\n",
    "\n",
    "1. Dropping columns that are not of interest\n",
    "    - Customer ID, Number of Dependents, City, Zip Code, Latitude, Longitude, Number of Referrals, Offer, Avg Monthly Long Distance Charges, Avg Monthly GB Download, Total Refunds, Total Extra Data Charges, Total Long Distance Charges, Churn Category, Churn Reason\n",
    "2. Renaming the remaining columns\n",
    "    - Standardizing the format of the column names\n",
    "3. Handling missingness\n",
    "    - Given most missing values are for the services used, we are assuming service was not availed\n",
    "4. Mapping Churn status to 0,1\n",
    "    - Creating the dependent variable column to indicate whether or not the customer churned"
   ]
  },
  {
   "cell_type": "code",
   "execution_count": 4,
   "id": "edac4f9f",
   "metadata": {
    "slideshow": {
     "slide_type": "skip"
    }
   },
   "outputs": [],
   "source": [
    "# Dropping columns not of interest\n",
    "drop_columns = ['Customer ID', \n",
    "                'Number of Dependents',\n",
    "                'City',\n",
    "                'Zip Code',\n",
    "                'Latitude',\n",
    "                'Longitude',\n",
    "                'Number of Referrals',\n",
    "                'Offer',\n",
    "                'Avg Monthly Long Distance Charges',\n",
    "                'Avg Monthly GB Download',\n",
    "                'Total Refunds',\n",
    "                'Total Extra Data Charges',\n",
    "                'Total Long Distance Charges',\n",
    "                'Churn Category', \n",
    "                'Churn Reason'\n",
    "               ]\n",
    "cleaned_df = raw_df.drop(columns = drop_columns)\n",
    "\n",
    "# Renaming the remaining columns\n",
    "rename_col = {'Gender': 'gender',\n",
    "              'Age': 'age',\n",
    "              'Married':'married',\n",
    "              'Contract': 'contract',\n",
    "              'Tenure in Months': 'tenure',\n",
    "              'Phone Service': 'phone_service',\n",
    "              'Multiple Lines': 'multiple_lines',\n",
    "              'Internet Service': 'internet_service',\n",
    "              'Internet Type': 'internet_type',\n",
    "              'Online Security': 'online_service',\n",
    "              'Online Backup': 'online_backup',\n",
    "              'Device Protection Plan': 'device_protection',\n",
    "              'Premium Tech Support': 'prem_support',\n",
    "              'Streaming TV': 'streaming_tv',\n",
    "              'Streaming Movies': 'streaming_movies',\n",
    "              'Streaming Music': 'streaming_music',\n",
    "              'Unlimited Data': 'unlimited_data',\n",
    "              'Paperless Billing': 'paperless_billing',\n",
    "              'Payment Method': 'payment_method',\n",
    "              'Monthly Charge': 'monthly_charge',\n",
    "              'Total Charges': 'total_charges',\n",
    "              'Total Revenue': 'total_revenue',\n",
    "              'Customer Status': 'churn'\n",
    "             }\n",
    "cleaned_df.rename(columns = rename_col, inplace = True)"
   ]
  },
  {
   "cell_type": "markdown",
   "id": "f7603211",
   "metadata": {
    "slideshow": {
     "slide_type": "subslide"
    }
   },
   "source": [
    "#### Cleaned dataset after dropping columns and renaming "
   ]
  },
  {
   "cell_type": "code",
   "execution_count": 5,
   "id": "32f8f2b9",
   "metadata": {
    "slideshow": {
     "slide_type": "fragment"
    }
   },
   "outputs": [
    {
     "data": {
      "text/html": [
       "<div>\n",
       "<style scoped>\n",
       "    .dataframe tbody tr th:only-of-type {\n",
       "        vertical-align: middle;\n",
       "    }\n",
       "\n",
       "    .dataframe tbody tr th {\n",
       "        vertical-align: top;\n",
       "    }\n",
       "\n",
       "    .dataframe thead th {\n",
       "        text-align: right;\n",
       "    }\n",
       "</style>\n",
       "<table border=\"1\" class=\"dataframe\">\n",
       "  <thead>\n",
       "    <tr style=\"text-align: right;\">\n",
       "      <th></th>\n",
       "      <th>gender</th>\n",
       "      <th>age</th>\n",
       "      <th>married</th>\n",
       "      <th>tenure</th>\n",
       "      <th>phone_service</th>\n",
       "      <th>multiple_lines</th>\n",
       "      <th>internet_service</th>\n",
       "      <th>internet_type</th>\n",
       "      <th>online_service</th>\n",
       "      <th>online_backup</th>\n",
       "      <th>...</th>\n",
       "      <th>streaming_movies</th>\n",
       "      <th>streaming_music</th>\n",
       "      <th>unlimited_data</th>\n",
       "      <th>contract</th>\n",
       "      <th>paperless_billing</th>\n",
       "      <th>payment_method</th>\n",
       "      <th>monthly_charge</th>\n",
       "      <th>total_charges</th>\n",
       "      <th>total_revenue</th>\n",
       "      <th>churn</th>\n",
       "    </tr>\n",
       "  </thead>\n",
       "  <tbody>\n",
       "    <tr>\n",
       "      <th>0</th>\n",
       "      <td>Female</td>\n",
       "      <td>37</td>\n",
       "      <td>Yes</td>\n",
       "      <td>9</td>\n",
       "      <td>Yes</td>\n",
       "      <td>No</td>\n",
       "      <td>Yes</td>\n",
       "      <td>Cable</td>\n",
       "      <td>No</td>\n",
       "      <td>Yes</td>\n",
       "      <td>...</td>\n",
       "      <td>No</td>\n",
       "      <td>No</td>\n",
       "      <td>Yes</td>\n",
       "      <td>One Year</td>\n",
       "      <td>Yes</td>\n",
       "      <td>Credit Card</td>\n",
       "      <td>65.6</td>\n",
       "      <td>593.30</td>\n",
       "      <td>974.81</td>\n",
       "      <td>Stayed</td>\n",
       "    </tr>\n",
       "    <tr>\n",
       "      <th>1</th>\n",
       "      <td>Male</td>\n",
       "      <td>46</td>\n",
       "      <td>No</td>\n",
       "      <td>9</td>\n",
       "      <td>Yes</td>\n",
       "      <td>Yes</td>\n",
       "      <td>Yes</td>\n",
       "      <td>Cable</td>\n",
       "      <td>No</td>\n",
       "      <td>No</td>\n",
       "      <td>...</td>\n",
       "      <td>Yes</td>\n",
       "      <td>Yes</td>\n",
       "      <td>No</td>\n",
       "      <td>Month-to-Month</td>\n",
       "      <td>No</td>\n",
       "      <td>Credit Card</td>\n",
       "      <td>-4.0</td>\n",
       "      <td>542.40</td>\n",
       "      <td>610.28</td>\n",
       "      <td>Stayed</td>\n",
       "    </tr>\n",
       "    <tr>\n",
       "      <th>2</th>\n",
       "      <td>Male</td>\n",
       "      <td>50</td>\n",
       "      <td>No</td>\n",
       "      <td>4</td>\n",
       "      <td>Yes</td>\n",
       "      <td>No</td>\n",
       "      <td>Yes</td>\n",
       "      <td>Fiber Optic</td>\n",
       "      <td>No</td>\n",
       "      <td>No</td>\n",
       "      <td>...</td>\n",
       "      <td>No</td>\n",
       "      <td>No</td>\n",
       "      <td>Yes</td>\n",
       "      <td>Month-to-Month</td>\n",
       "      <td>Yes</td>\n",
       "      <td>Bank Withdrawal</td>\n",
       "      <td>73.9</td>\n",
       "      <td>280.85</td>\n",
       "      <td>415.45</td>\n",
       "      <td>Churned</td>\n",
       "    </tr>\n",
       "    <tr>\n",
       "      <th>3</th>\n",
       "      <td>Male</td>\n",
       "      <td>78</td>\n",
       "      <td>Yes</td>\n",
       "      <td>13</td>\n",
       "      <td>Yes</td>\n",
       "      <td>No</td>\n",
       "      <td>Yes</td>\n",
       "      <td>Fiber Optic</td>\n",
       "      <td>No</td>\n",
       "      <td>Yes</td>\n",
       "      <td>...</td>\n",
       "      <td>Yes</td>\n",
       "      <td>No</td>\n",
       "      <td>Yes</td>\n",
       "      <td>Month-to-Month</td>\n",
       "      <td>Yes</td>\n",
       "      <td>Bank Withdrawal</td>\n",
       "      <td>98.0</td>\n",
       "      <td>1237.85</td>\n",
       "      <td>1599.51</td>\n",
       "      <td>Churned</td>\n",
       "    </tr>\n",
       "    <tr>\n",
       "      <th>4</th>\n",
       "      <td>Female</td>\n",
       "      <td>75</td>\n",
       "      <td>Yes</td>\n",
       "      <td>3</td>\n",
       "      <td>Yes</td>\n",
       "      <td>No</td>\n",
       "      <td>Yes</td>\n",
       "      <td>Fiber Optic</td>\n",
       "      <td>No</td>\n",
       "      <td>No</td>\n",
       "      <td>...</td>\n",
       "      <td>No</td>\n",
       "      <td>No</td>\n",
       "      <td>Yes</td>\n",
       "      <td>Month-to-Month</td>\n",
       "      <td>Yes</td>\n",
       "      <td>Credit Card</td>\n",
       "      <td>83.9</td>\n",
       "      <td>267.40</td>\n",
       "      <td>289.54</td>\n",
       "      <td>Churned</td>\n",
       "    </tr>\n",
       "  </tbody>\n",
       "</table>\n",
       "<p>5 rows × 23 columns</p>\n",
       "</div>"
      ],
      "text/plain": [
       "   gender  age married  tenure phone_service multiple_lines internet_service  \\\n",
       "0  Female   37     Yes       9           Yes             No              Yes   \n",
       "1    Male   46      No       9           Yes            Yes              Yes   \n",
       "2    Male   50      No       4           Yes             No              Yes   \n",
       "3    Male   78     Yes      13           Yes             No              Yes   \n",
       "4  Female   75     Yes       3           Yes             No              Yes   \n",
       "\n",
       "  internet_type online_service online_backup  ... streaming_movies  \\\n",
       "0         Cable             No           Yes  ...               No   \n",
       "1         Cable             No            No  ...              Yes   \n",
       "2   Fiber Optic             No            No  ...               No   \n",
       "3   Fiber Optic             No           Yes  ...              Yes   \n",
       "4   Fiber Optic             No            No  ...               No   \n",
       "\n",
       "  streaming_music unlimited_data        contract paperless_billing  \\\n",
       "0              No            Yes        One Year               Yes   \n",
       "1             Yes             No  Month-to-Month                No   \n",
       "2              No            Yes  Month-to-Month               Yes   \n",
       "3              No            Yes  Month-to-Month               Yes   \n",
       "4              No            Yes  Month-to-Month               Yes   \n",
       "\n",
       "    payment_method monthly_charge total_charges total_revenue    churn  \n",
       "0      Credit Card           65.6        593.30        974.81   Stayed  \n",
       "1      Credit Card           -4.0        542.40        610.28   Stayed  \n",
       "2  Bank Withdrawal           73.9        280.85        415.45  Churned  \n",
       "3  Bank Withdrawal           98.0       1237.85       1599.51  Churned  \n",
       "4      Credit Card           83.9        267.40        289.54  Churned  \n",
       "\n",
       "[5 rows x 23 columns]"
      ]
     },
     "execution_count": 5,
     "metadata": {},
     "output_type": "execute_result"
    }
   ],
   "source": [
    "cleaned_df.head()"
   ]
  },
  {
   "cell_type": "markdown",
   "id": "79fe446a",
   "metadata": {
    "slideshow": {
     "slide_type": "subslide"
    }
   },
   "source": [
    "#### Evaluating and handling missingness of data\n",
    "\n",
    "Since most of the missing values are for the services used by the customers, we are assuming that missing values imply the service was not being used by the customer. Hence, we replace the missing values with `No`"
   ]
  },
  {
   "cell_type": "code",
   "execution_count": 6,
   "id": "c31c39d5",
   "metadata": {
    "slideshow": {
     "slide_type": "fragment"
    }
   },
   "outputs": [
    {
     "data": {
      "text/html": [
       "<div>\n",
       "<style scoped>\n",
       "    .dataframe tbody tr th:only-of-type {\n",
       "        vertical-align: middle;\n",
       "    }\n",
       "\n",
       "    .dataframe tbody tr th {\n",
       "        vertical-align: top;\n",
       "    }\n",
       "\n",
       "    .dataframe thead th {\n",
       "        text-align: right;\n",
       "    }\n",
       "</style>\n",
       "<table border=\"1\" class=\"dataframe\">\n",
       "  <thead>\n",
       "    <tr style=\"text-align: right;\">\n",
       "      <th></th>\n",
       "      <th>columns</th>\n",
       "      <th>missing_values</th>\n",
       "      <th>dtypes</th>\n",
       "    </tr>\n",
       "  </thead>\n",
       "  <tbody>\n",
       "    <tr>\n",
       "      <th>0</th>\n",
       "      <td>gender</td>\n",
       "      <td>0</td>\n",
       "      <td>object</td>\n",
       "    </tr>\n",
       "    <tr>\n",
       "      <th>1</th>\n",
       "      <td>age</td>\n",
       "      <td>0</td>\n",
       "      <td>int64</td>\n",
       "    </tr>\n",
       "    <tr>\n",
       "      <th>2</th>\n",
       "      <td>married</td>\n",
       "      <td>0</td>\n",
       "      <td>object</td>\n",
       "    </tr>\n",
       "    <tr>\n",
       "      <th>3</th>\n",
       "      <td>tenure</td>\n",
       "      <td>0</td>\n",
       "      <td>int64</td>\n",
       "    </tr>\n",
       "    <tr>\n",
       "      <th>4</th>\n",
       "      <td>phone_service</td>\n",
       "      <td>0</td>\n",
       "      <td>object</td>\n",
       "    </tr>\n",
       "    <tr>\n",
       "      <th>5</th>\n",
       "      <td>multiple_lines</td>\n",
       "      <td>682</td>\n",
       "      <td>object</td>\n",
       "    </tr>\n",
       "    <tr>\n",
       "      <th>6</th>\n",
       "      <td>internet_service</td>\n",
       "      <td>0</td>\n",
       "      <td>object</td>\n",
       "    </tr>\n",
       "    <tr>\n",
       "      <th>7</th>\n",
       "      <td>internet_type</td>\n",
       "      <td>1526</td>\n",
       "      <td>object</td>\n",
       "    </tr>\n",
       "    <tr>\n",
       "      <th>8</th>\n",
       "      <td>online_service</td>\n",
       "      <td>1526</td>\n",
       "      <td>object</td>\n",
       "    </tr>\n",
       "    <tr>\n",
       "      <th>9</th>\n",
       "      <td>online_backup</td>\n",
       "      <td>1526</td>\n",
       "      <td>object</td>\n",
       "    </tr>\n",
       "    <tr>\n",
       "      <th>10</th>\n",
       "      <td>device_protection</td>\n",
       "      <td>1526</td>\n",
       "      <td>object</td>\n",
       "    </tr>\n",
       "    <tr>\n",
       "      <th>11</th>\n",
       "      <td>prem_support</td>\n",
       "      <td>1526</td>\n",
       "      <td>object</td>\n",
       "    </tr>\n",
       "    <tr>\n",
       "      <th>12</th>\n",
       "      <td>streaming_tv</td>\n",
       "      <td>1526</td>\n",
       "      <td>object</td>\n",
       "    </tr>\n",
       "    <tr>\n",
       "      <th>13</th>\n",
       "      <td>streaming_movies</td>\n",
       "      <td>1526</td>\n",
       "      <td>object</td>\n",
       "    </tr>\n",
       "    <tr>\n",
       "      <th>14</th>\n",
       "      <td>streaming_music</td>\n",
       "      <td>1526</td>\n",
       "      <td>object</td>\n",
       "    </tr>\n",
       "    <tr>\n",
       "      <th>15</th>\n",
       "      <td>unlimited_data</td>\n",
       "      <td>1526</td>\n",
       "      <td>object</td>\n",
       "    </tr>\n",
       "    <tr>\n",
       "      <th>16</th>\n",
       "      <td>contract</td>\n",
       "      <td>0</td>\n",
       "      <td>object</td>\n",
       "    </tr>\n",
       "    <tr>\n",
       "      <th>17</th>\n",
       "      <td>paperless_billing</td>\n",
       "      <td>0</td>\n",
       "      <td>object</td>\n",
       "    </tr>\n",
       "    <tr>\n",
       "      <th>18</th>\n",
       "      <td>payment_method</td>\n",
       "      <td>0</td>\n",
       "      <td>object</td>\n",
       "    </tr>\n",
       "    <tr>\n",
       "      <th>19</th>\n",
       "      <td>monthly_charge</td>\n",
       "      <td>0</td>\n",
       "      <td>float64</td>\n",
       "    </tr>\n",
       "    <tr>\n",
       "      <th>20</th>\n",
       "      <td>total_charges</td>\n",
       "      <td>0</td>\n",
       "      <td>float64</td>\n",
       "    </tr>\n",
       "    <tr>\n",
       "      <th>21</th>\n",
       "      <td>total_revenue</td>\n",
       "      <td>0</td>\n",
       "      <td>float64</td>\n",
       "    </tr>\n",
       "    <tr>\n",
       "      <th>22</th>\n",
       "      <td>churn</td>\n",
       "      <td>0</td>\n",
       "      <td>object</td>\n",
       "    </tr>\n",
       "  </tbody>\n",
       "</table>\n",
       "</div>"
      ],
      "text/plain": [
       "              columns  missing_values   dtypes\n",
       "0              gender               0   object\n",
       "1                 age               0    int64\n",
       "2             married               0   object\n",
       "3              tenure               0    int64\n",
       "4       phone_service               0   object\n",
       "5      multiple_lines             682   object\n",
       "6    internet_service               0   object\n",
       "7       internet_type            1526   object\n",
       "8      online_service            1526   object\n",
       "9       online_backup            1526   object\n",
       "10  device_protection            1526   object\n",
       "11       prem_support            1526   object\n",
       "12       streaming_tv            1526   object\n",
       "13   streaming_movies            1526   object\n",
       "14    streaming_music            1526   object\n",
       "15     unlimited_data            1526   object\n",
       "16           contract               0   object\n",
       "17  paperless_billing               0   object\n",
       "18     payment_method               0   object\n",
       "19     monthly_charge               0  float64\n",
       "20      total_charges               0  float64\n",
       "21      total_revenue               0  float64\n",
       "22              churn               0   object"
      ]
     },
     "execution_count": 6,
     "metadata": {},
     "output_type": "execute_result"
    }
   ],
   "source": [
    "pd.DataFrame({'columns': list(cleaned_df.columns),\n",
    "              'missing_values': cleaned_df.isna().sum(),\n",
    "              'dtypes': cleaned_df.dtypes\n",
    "             }\n",
    "            ).reset_index(drop = True)"
   ]
  },
  {
   "cell_type": "code",
   "execution_count": 7,
   "id": "e062c000",
   "metadata": {
    "slideshow": {
     "slide_type": "skip"
    }
   },
   "outputs": [],
   "source": [
    "cleaned_df.fillna('No', inplace = True)"
   ]
  },
  {
   "cell_type": "markdown",
   "id": "4eded974",
   "metadata": {
    "slideshow": {
     "slide_type": "subslide"
    }
   },
   "source": [
    "#### Mapping the churn status to 0,1\n",
    "\n",
    "Currently, the values in `churn` column are 'churned', 'stayed', or 'joined'. Since, we are trying to predict whether a customer will churn, we create a new column called `churn_status` that indicates 0 for not churned and 1 for churned."
   ]
  },
  {
   "cell_type": "code",
   "execution_count": 8,
   "id": "e5c21319",
   "metadata": {
    "slideshow": {
     "slide_type": "fragment"
    }
   },
   "outputs": [
    {
     "data": {
      "text/plain": [
       "0    5174\n",
       "1    1869\n",
       "Name: churn_status, dtype: int64"
      ]
     },
     "execution_count": 8,
     "metadata": {},
     "output_type": "execute_result"
    }
   ],
   "source": [
    "cleaned_df = cleaned_df.assign(churn_status = cleaned_df.churn.apply(lambda x: 1 if x == 'Churned' else 0))\n",
    "cleaned_df.churn_status = cleaned_df.churn_status.astype('category')\n",
    "cleaned_df.churn_status.value_counts()\n",
    "cleaned_df.drop(['churn'],axis = 1, inplace = True)"
   ]
  },
  {
   "cell_type": "markdown",
   "id": "4ccbda29",
   "metadata": {
    "slideshow": {
     "slide_type": "slide"
    }
   },
   "source": [
    "# 3. Data visualization"
   ]
  },
  {
   "cell_type": "code",
   "execution_count": 9,
   "id": "4c6f8466",
   "metadata": {
    "slideshow": {
     "slide_type": "skip"
    }
   },
   "outputs": [],
   "source": [
    "green = '#199E3D'\n",
    "red = '#EB3D42'"
   ]
  },
  {
   "cell_type": "code",
   "execution_count": 10,
   "id": "f98d16e1",
   "metadata": {
    "slideshow": {
     "slide_type": "skip"
    }
   },
   "outputs": [],
   "source": [
    "def prop_per_x(x, count):\n",
    "    \"\"\"\n",
    "    Compute the proportion of the counts for each value of x\n",
    "    \"\"\"\n",
    "    df = pd.DataFrame({\n",
    "        'x': x,\n",
    "        'count': count\n",
    "    })\n",
    "    prop = df['count']/df.groupby('x')['count'].transform('sum')\n",
    "    return prop"
   ]
  },
  {
   "cell_type": "markdown",
   "id": "81272a1e",
   "metadata": {
    "slideshow": {
     "slide_type": "subslide"
    }
   },
   "source": [
    "### Corrrelation of churn with other relevant variables"
   ]
  },
  {
   "cell_type": "code",
   "execution_count": 11,
   "id": "c36d9903",
   "metadata": {
    "slideshow": {
     "slide_type": "skip"
    }
   },
   "outputs": [],
   "source": [
    "# Creating a correlation matrix\n",
    "\n",
    "churn_corr_df = (\n",
    "    pd.DataFrame(\n",
    "        pd.get_dummies(cleaned_df)\n",
    "        .corr()\n",
    "        .churn_status_1\n",
    "        .sort_values(ascending = False)\n",
    "    )\n",
    "    .reset_index()\n",
    "    .rename(columns = {'index': 'cols',\n",
    "                       'churn_status_1': 'corr'})\n",
    "    \n",
    ")\n",
    "churn_corr_df = churn_corr_df[~churn_corr_df.cols.isin(['churn_status_1','churn_status_0'])]\n",
    "churn_corr_df.cols = pd.Categorical(churn_corr_df.cols, categories=pd.unique(churn_corr_df.cols), ordered=True)"
   ]
  },
  {
   "cell_type": "code",
   "execution_count": 12,
   "id": "3bf76b58",
   "metadata": {
    "slideshow": {
     "slide_type": "skip"
    }
   },
   "outputs": [],
   "source": [
    "plot_corr = (\n",
    "    pn.ggplot(churn_corr_df,\n",
    "              pn.aes(x = 'cols', y = 'corr')\n",
    "             )\n",
    "    + pn.geom_point()\n",
    "    + pn.theme_minimal()\n",
    "    + pn.theme(axis_text_x=pn.element_text(angle = 90))\n",
    "    + pn.ggtitle('Churn is highly correlated to the month-to-month contract type\\n and Fiber Optic internet service')\n",
    "    + pn.labs(x = 'Data features', y = 'Correlation with churn')\n",
    ")"
   ]
  },
  {
   "cell_type": "code",
   "execution_count": 13,
   "id": "ff7b0264",
   "metadata": {
    "slideshow": {
     "slide_type": "fragment"
    }
   },
   "outputs": [
    {
     "data": {
      "image/png": "[encoded data removed]",
      "text/plain": [
       "<Figure size 640x480 with 1 Axes>"
      ]
     },
     "metadata": {
      "needs_background": "light"
     },
     "output_type": "display_data"
    },
    {
     "data": {
      "text/plain": [
       "<ggplot: (142056816445)>"
      ]
     },
     "execution_count": 13,
     "metadata": {},
     "output_type": "execute_result"
    }
   ],
   "source": [
    "plot_corr"
   ]
  },
  {
   "cell_type": "markdown",
   "id": "45f221e9",
   "metadata": {
    "slideshow": {
     "slide_type": "subslide"
    }
   },
   "source": [
    "### Churn status by contract type"
   ]
  },
  {
   "cell_type": "code",
   "execution_count": 14,
   "id": "b44def08",
   "metadata": {
    "slideshow": {
     "slide_type": "skip"
    }
   },
   "outputs": [
    {
     "data": {
      "text/plain": [
       "contract         \n",
       "Month-to-Month  0    1955\n",
       "                1    1655\n",
       "One Year        0    1384\n",
       "                1     166\n",
       "Two Year        0    1835\n",
       "                1      48\n",
       "Name: churn_status, dtype: int64"
      ]
     },
     "execution_count": 14,
     "metadata": {},
     "output_type": "execute_result"
    }
   ],
   "source": [
    "(\n",
    "    cleaned_df\n",
    "    .groupby(['contract'])\n",
    "    .churn_status\n",
    "    .value_counts()\n",
    ")"
   ]
  },
  {
   "cell_type": "code",
   "execution_count": 15,
   "id": "2e550414",
   "metadata": {
    "slideshow": {
     "slide_type": "skip"
    }
   },
   "outputs": [],
   "source": [
    "plot_contract = (\n",
    "    pn.ggplot(cleaned_df,\n",
    "              pn.aes(x = 'contract',\n",
    "                     fill = 'churn_status'\n",
    "                    )\n",
    "             )\n",
    "    + pn.geom_bar()\n",
    "    + pn.geom_text(pn.aes(label=pn.after_stat('prop_per_x(x,count)*100')),\n",
    "                   stat = 'count',\n",
    "                   va = 'top',\n",
    "                   ha = 'center',\n",
    "                   format_string='{:.1f}%',\n",
    "                   position = pn.position_stack(vjust=0.5)\n",
    "                  )\n",
    "    + pn.scale_fill_manual(values = (green,red))\n",
    "    + pn.theme_minimal()\n",
    "    + pn.ggtitle('Customers with month-to-month contract are more likely to churn')\n",
    "    + pn.labs(x = 'Contract type', y = 'Count', fill = 'Churn Status')\n",
    ")"
   ]
  },
  {
   "cell_type": "code",
   "execution_count": 16,
   "id": "898a22de",
   "metadata": {
    "slideshow": {
     "slide_type": "fragment"
    }
   },
   "outputs": [
    {
     "data": {
      "image/png": "[encoded data removed]",
      "text/plain": [
       "<Figure size 640x480 with 1 Axes>"
      ]
     },
     "metadata": {
      "needs_background": "light"
     },
     "output_type": "display_data"
    },
    {
     "data": {
      "text/plain": [
       "<ggplot: (142057442012)>"
      ]
     },
     "execution_count": 16,
     "metadata": {},
     "output_type": "execute_result"
    }
   ],
   "source": [
    "plot_contract"
   ]
  },
  {
   "cell_type": "markdown",
   "id": "70dad75b",
   "metadata": {
    "slideshow": {
     "slide_type": "subslide"
    }
   },
   "source": [
    "### Churn by internet type"
   ]
  },
  {
   "cell_type": "code",
   "execution_count": 17,
   "id": "aef1063e",
   "metadata": {
    "slideshow": {
     "slide_type": "skip"
    }
   },
   "outputs": [
    {
     "data": {
      "text/plain": [
       "internet_type   \n",
       "Cable          0     617\n",
       "               1     213\n",
       "DSL            0    1345\n",
       "               1     307\n",
       "Fiber Optic    0    1799\n",
       "               1    1236\n",
       "No             0    1413\n",
       "               1     113\n",
       "Name: churn_status, dtype: int64"
      ]
     },
     "execution_count": 17,
     "metadata": {},
     "output_type": "execute_result"
    }
   ],
   "source": [
    "(\n",
    "    cleaned_df\n",
    "    .groupby(['internet_type'])\n",
    "    .churn_status\n",
    "    .value_counts()\n",
    ")"
   ]
  },
  {
   "cell_type": "code",
   "execution_count": 18,
   "id": "46d1f15f",
   "metadata": {
    "slideshow": {
     "slide_type": "skip"
    }
   },
   "outputs": [],
   "source": [
    "plot_internet_type = (\n",
    "    pn.ggplot(cleaned_df,\n",
    "              pn.aes(x = 'internet_type',\n",
    "                     fill = 'churn_status'\n",
    "                    )\n",
    "             )\n",
    "    + pn.geom_bar()\n",
    "    + pn.geom_text(pn.aes(label=pn.after_stat('prop_per_x(x,count)*100')),\n",
    "                   stat = 'count',\n",
    "                   va = 'top',\n",
    "                   ha = 'center',\n",
    "                   format_string='{:.1f}%',\n",
    "                   position = pn.position_stack(vjust=0.5)\n",
    "                  )\n",
    "    + pn.scale_fill_manual(values = (green,red))\n",
    "    + pn.scale_x_discrete(limits = ['Fiber Optic', 'DSL', 'Cable', 'No'])\n",
    "    + pn.theme_minimal()\n",
    "    + pn.ggtitle('Customers with Fiber Optics internet are more likely to churn')\n",
    "    + pn.labs(x = 'Internet type', y = 'Count', fill = 'Churn Status')\n",
    ")"
   ]
  },
  {
   "cell_type": "code",
   "execution_count": 19,
   "id": "28745922",
   "metadata": {
    "slideshow": {
     "slide_type": "fragment"
    }
   },
   "outputs": [
    {
     "data": {
      "image/png": "[encoded data removed]",
      "text/plain": [
       "<Figure size 640x480 with 1 Axes>"
      ]
     },
     "metadata": {
      "needs_background": "light"
     },
     "output_type": "display_data"
    },
    {
     "data": {
      "text/plain": [
       "<ggplot: (142057493245)>"
      ]
     },
     "execution_count": 19,
     "metadata": {},
     "output_type": "execute_result"
    }
   ],
   "source": [
    "plot_internet_type"
   ]
  },
  {
   "cell_type": "markdown",
   "id": "0644b61a",
   "metadata": {
    "slideshow": {
     "slide_type": "subslide"
    }
   },
   "source": [
    "### Churn density by the monthly charge"
   ]
  },
  {
   "cell_type": "code",
   "execution_count": 20,
   "id": "f5b7bd72",
   "metadata": {
    "slideshow": {
     "slide_type": "skip"
    }
   },
   "outputs": [
    {
     "data": {
      "text/html": [
       "<div>\n",
       "<style scoped>\n",
       "    .dataframe tbody tr th:only-of-type {\n",
       "        vertical-align: middle;\n",
       "    }\n",
       "\n",
       "    .dataframe tbody tr th {\n",
       "        vertical-align: top;\n",
       "    }\n",
       "\n",
       "    .dataframe thead th {\n",
       "        text-align: right;\n",
       "    }\n",
       "</style>\n",
       "<table border=\"1\" class=\"dataframe\">\n",
       "  <thead>\n",
       "    <tr style=\"text-align: right;\">\n",
       "      <th></th>\n",
       "      <th>monthly_charge</th>\n",
       "      <th>total_charges</th>\n",
       "      <th>total_revenue</th>\n",
       "    </tr>\n",
       "    <tr>\n",
       "      <th>churn_status</th>\n",
       "      <th></th>\n",
       "      <th></th>\n",
       "      <th></th>\n",
       "    </tr>\n",
       "  </thead>\n",
       "  <tbody>\n",
       "    <tr>\n",
       "      <th>0</th>\n",
       "      <td>60.073618</td>\n",
       "      <td>2550.792103</td>\n",
       "      <td>3418.374927</td>\n",
       "    </tr>\n",
       "    <tr>\n",
       "      <th>1</th>\n",
       "      <td>73.347592</td>\n",
       "      <td>1531.796094</td>\n",
       "      <td>1971.353569</td>\n",
       "    </tr>\n",
       "  </tbody>\n",
       "</table>\n",
       "</div>"
      ],
      "text/plain": [
       "              monthly_charge  total_charges  total_revenue\n",
       "churn_status                                              \n",
       "0                  60.073618    2550.792103    3418.374927\n",
       "1                  73.347592    1531.796094    1971.353569"
      ]
     },
     "execution_count": 20,
     "metadata": {},
     "output_type": "execute_result"
    }
   ],
   "source": [
    "(\n",
    "    cleaned_df\n",
    "    .loc[:,['churn_status','monthly_charge', 'total_charges','total_revenue']]\n",
    "    .groupby('churn_status')\n",
    "    .mean()\n",
    ")"
   ]
  },
  {
   "cell_type": "code",
   "execution_count": 21,
   "id": "fe8c8ebb",
   "metadata": {
    "slideshow": {
     "slide_type": "skip"
    }
   },
   "outputs": [],
   "source": [
    "plot_monthly_charge = (\n",
    "    pn.ggplot(cleaned_df,pn.aes(x = 'monthly_charge'))\n",
    "    + pn.geom_density(pn.aes(fill = 'churn_status'), alpha = 0.9)\n",
    "    + pn.scale_fill_manual(values = (green,red))\n",
    "    + pn.theme_minimal()\n",
    "    + pn.ggtitle('Customers with higher monthly charges are more likely to churn')\n",
    "    + pn.labs(x = 'Monthly Charge ($)', y = 'Density', fill = 'Churn status')\n",
    ")"
   ]
  },
  {
   "cell_type": "code",
   "execution_count": 22,
   "id": "c759176d",
   "metadata": {
    "slideshow": {
     "slide_type": "fragment"
    }
   },
   "outputs": [
    {
     "data": {
      "image/png": "[encoded data removed]",
      "text/plain": [
       "<Figure size 640x480 with 1 Axes>"
      ]
     },
     "metadata": {
      "needs_background": "light"
     },
     "output_type": "display_data"
    },
    {
     "data": {
      "text/plain": [
       "<ggplot: (142057678002)>"
      ]
     },
     "execution_count": 22,
     "metadata": {},
     "output_type": "execute_result"
    }
   ],
   "source": [
    "plot_monthly_charge"
   ]
  },
  {
   "cell_type": "markdown",
   "id": "10f3e001",
   "metadata": {
    "slideshow": {
     "slide_type": "subslide"
    }
   },
   "source": [
    "### Variation of monthly charges with internet type\n",
    "\n",
    "Fiber optics customers have a higher monthly charge. Hence, we see high churn for both customers of fiber optics and those with high monthly charge."
   ]
  },
  {
   "cell_type": "code",
   "execution_count": 23,
   "id": "67716403",
   "metadata": {
    "slideshow": {
     "slide_type": "skip"
    }
   },
   "outputs": [
    {
     "data": {
      "text/html": [
       "<div>\n",
       "<style scoped>\n",
       "    .dataframe tbody tr th:only-of-type {\n",
       "        vertical-align: middle;\n",
       "    }\n",
       "\n",
       "    .dataframe tbody tr th {\n",
       "        vertical-align: top;\n",
       "    }\n",
       "\n",
       "    .dataframe thead tr th {\n",
       "        text-align: left;\n",
       "    }\n",
       "\n",
       "    .dataframe thead tr:last-of-type th {\n",
       "        text-align: right;\n",
       "    }\n",
       "</style>\n",
       "<table border=\"1\" class=\"dataframe\">\n",
       "  <thead>\n",
       "    <tr>\n",
       "      <th></th>\n",
       "      <th></th>\n",
       "      <th colspan=\"2\" halign=\"left\">monthly_charge</th>\n",
       "    </tr>\n",
       "    <tr>\n",
       "      <th></th>\n",
       "      <th></th>\n",
       "      <th>count</th>\n",
       "      <th>mean</th>\n",
       "    </tr>\n",
       "    <tr>\n",
       "      <th>internet_type</th>\n",
       "      <th>churn_status</th>\n",
       "      <th></th>\n",
       "      <th></th>\n",
       "    </tr>\n",
       "  </thead>\n",
       "  <tbody>\n",
       "    <tr>\n",
       "      <th rowspan=\"2\" valign=\"top\">Cable</th>\n",
       "      <th>0</th>\n",
       "      <td>617</td>\n",
       "      <td>59.123258</td>\n",
       "    </tr>\n",
       "    <tr>\n",
       "      <th>1</th>\n",
       "      <td>213</td>\n",
       "      <td>60.027700</td>\n",
       "    </tr>\n",
       "    <tr>\n",
       "      <th rowspan=\"2\" valign=\"top\">DSL</th>\n",
       "      <th>0</th>\n",
       "      <td>1345</td>\n",
       "      <td>58.785725</td>\n",
       "    </tr>\n",
       "    <tr>\n",
       "      <th>1</th>\n",
       "      <td>307</td>\n",
       "      <td>48.059935</td>\n",
       "    </tr>\n",
       "    <tr>\n",
       "      <th rowspan=\"2\" valign=\"top\">Fiber Optic</th>\n",
       "      <th>0</th>\n",
       "      <td>1799</td>\n",
       "      <td>92.294747</td>\n",
       "    </tr>\n",
       "    <tr>\n",
       "      <th>1</th>\n",
       "      <td>1236</td>\n",
       "      <td>86.833576</td>\n",
       "    </tr>\n",
       "    <tr>\n",
       "      <th rowspan=\"2\" valign=\"top\">No</th>\n",
       "      <th>0</th>\n",
       "      <td>1413</td>\n",
       "      <td>20.691295</td>\n",
       "    </tr>\n",
       "    <tr>\n",
       "      <th>1</th>\n",
       "      <td>113</td>\n",
       "      <td>19.646460</td>\n",
       "    </tr>\n",
       "  </tbody>\n",
       "</table>\n",
       "</div>"
      ],
      "text/plain": [
       "                           monthly_charge           \n",
       "                                    count       mean\n",
       "internet_type churn_status                          \n",
       "Cable         0                       617  59.123258\n",
       "              1                       213  60.027700\n",
       "DSL           0                      1345  58.785725\n",
       "              1                       307  48.059935\n",
       "Fiber Optic   0                      1799  92.294747\n",
       "              1                      1236  86.833576\n",
       "No            0                      1413  20.691295\n",
       "              1                       113  19.646460"
      ]
     },
     "execution_count": 23,
     "metadata": {},
     "output_type": "execute_result"
    }
   ],
   "source": [
    "(\n",
    "    cleaned_df\n",
    "    .loc[:,['internet_type','monthly_charge','churn_status']]\n",
    "    .groupby(['internet_type','churn_status'])\n",
    "    .agg(['count', 'mean'])\n",
    ")"
   ]
  },
  {
   "cell_type": "code",
   "execution_count": 24,
   "id": "11aca2c1",
   "metadata": {
    "slideshow": {
     "slide_type": "skip"
    }
   },
   "outputs": [],
   "source": [
    "plot_fiber_charge = (\n",
    "    pn.ggplot(cleaned_df,\n",
    "              pn.aes(x = 'internet_type', y = 'monthly_charge', fill = 'churn_status')\n",
    "             )\n",
    "    + pn.geom_boxplot(outlier_shape = '.',\n",
    "                      outlier_size = 0.5\n",
    "                     )\n",
    "    + pn.scale_fill_manual(values = (green,red))\n",
    "    + pn.theme_minimal()\n",
    "    + pn.scale_x_discrete(limits = ['Fiber Optic', 'DSL', 'Cable', 'No'])\n",
    "    + pn.labs(x = 'Internet Type', y = 'Monthly charge ($)', fill = 'Churn Status')\n",
    "    + pn.ggtitle('Fiber Optics customers have a high monthly charge')\n",
    ")"
   ]
  },
  {
   "cell_type": "code",
   "execution_count": 25,
   "id": "72d6e603",
   "metadata": {},
   "outputs": [
    {
     "data": {
      "image/png": "[encoded data removed]",
      "text/plain": [
       "<Figure size 640x480 with 1 Axes>"
      ]
     },
     "metadata": {
      "needs_background": "light"
     },
     "output_type": "display_data"
    },
    {
     "data": {
      "text/plain": [
       "<ggplot: (142057732343)>"
      ]
     },
     "execution_count": 25,
     "metadata": {},
     "output_type": "execute_result"
    }
   ],
   "source": [
    "plot_fiber_charge"
   ]
  },
  {
   "cell_type": "code",
   "execution_count": 26,
   "id": "5985e4b1",
   "metadata": {
    "slideshow": {
     "slide_type": "skip"
    }
   },
   "outputs": [
    {
     "data": {
      "text/plain": [
       "internet_type  contract      \n",
       "Cable          Month-to-Month     423\n",
       "               Two Year           216\n",
       "               One Year           191\n",
       "DSL            Month-to-Month     787\n",
       "               Two Year           459\n",
       "               One Year           406\n",
       "Fiber Optic    Month-to-Month    1882\n",
       "               One Year           587\n",
       "               Two Year           566\n",
       "No             Two Year           642\n",
       "               Month-to-Month     518\n",
       "               One Year           366\n",
       "Name: contract, dtype: int64"
      ]
     },
     "execution_count": 26,
     "metadata": {},
     "output_type": "execute_result"
    }
   ],
   "source": [
    "# Checking if there is a lurking relationship between contract type and internet type\n",
    "(\n",
    "    cleaned_df\n",
    "    .groupby(['internet_type'])\n",
    "    .contract\n",
    "    .value_counts()\n",
    ")"
   ]
  },
  {
   "cell_type": "markdown",
   "id": "9c589b64",
   "metadata": {
    "slideshow": {
     "slide_type": "slide"
    }
   },
   "source": [
    "# 4. Data analysis"
   ]
  },
  {
   "cell_type": "markdown",
   "id": "a32ff335",
   "metadata": {
    "slideshow": {
     "slide_type": "fragment"
    }
   },
   "source": [
    "- We will use the decision tree (A) and the XGB boast classifiers (B) to develop two seperate model\n",
    "- The models will be tuned using gridsearch cross-validation to get the best estimator model\n",
    "- These best models will be trained on 75% of the dataset and tested on 25% of the test data\n",
    "- We will compare the accuracy of performance for both the algorithms to make the final selection of the model"
   ]
  },
  {
   "cell_type": "markdown",
   "id": "0d3b656c",
   "metadata": {
    "slideshow": {
     "slide_type": "subslide"
    }
   },
   "source": [
    "### Setting up the variable matrices"
   ]
  },
  {
   "cell_type": "code",
   "execution_count": 27,
   "id": "c23c9e0f",
   "metadata": {
    "slideshow": {
     "slide_type": "fragment"
    }
   },
   "outputs": [],
   "source": [
    "# Creating the X and y matrices. We are not using the patsy dmatrices method given the large number of predictor variables.\n",
    "y = cleaned_df.iloc[:,-1]\n",
    "X = pd.get_dummies(cleaned_df.iloc[:,:-1]) #get_dummies helps convert the discrete variables to 0s and 1s"
   ]
  },
  {
   "cell_type": "code",
   "execution_count": 28,
   "id": "cff4c4b8",
   "metadata": {
    "slideshow": {
     "slide_type": "skip"
    }
   },
   "outputs": [
    {
     "data": {
      "text/plain": [
       "0    0\n",
       "1    0\n",
       "2    1\n",
       "3    1\n",
       "4    1\n",
       "Name: churn_status, dtype: category\n",
       "Categories (2, int64): [0, 1]"
      ]
     },
     "execution_count": 28,
     "metadata": {},
     "output_type": "execute_result"
    },
    {
     "data": {
      "text/html": [
       "<div>\n",
       "<style scoped>\n",
       "    .dataframe tbody tr th:only-of-type {\n",
       "        vertical-align: middle;\n",
       "    }\n",
       "\n",
       "    .dataframe tbody tr th {\n",
       "        vertical-align: top;\n",
       "    }\n",
       "\n",
       "    .dataframe thead th {\n",
       "        text-align: right;\n",
       "    }\n",
       "</style>\n",
       "<table border=\"1\" class=\"dataframe\">\n",
       "  <thead>\n",
       "    <tr style=\"text-align: right;\">\n",
       "      <th></th>\n",
       "      <th>age</th>\n",
       "      <th>tenure</th>\n",
       "      <th>monthly_charge</th>\n",
       "      <th>total_charges</th>\n",
       "      <th>total_revenue</th>\n",
       "      <th>gender_Female</th>\n",
       "      <th>gender_Male</th>\n",
       "      <th>married_No</th>\n",
       "      <th>married_Yes</th>\n",
       "      <th>phone_service_No</th>\n",
       "      <th>...</th>\n",
       "      <th>unlimited_data_No</th>\n",
       "      <th>unlimited_data_Yes</th>\n",
       "      <th>contract_Month-to-Month</th>\n",
       "      <th>contract_One Year</th>\n",
       "      <th>contract_Two Year</th>\n",
       "      <th>paperless_billing_No</th>\n",
       "      <th>paperless_billing_Yes</th>\n",
       "      <th>payment_method_Bank Withdrawal</th>\n",
       "      <th>payment_method_Credit Card</th>\n",
       "      <th>payment_method_Mailed Check</th>\n",
       "    </tr>\n",
       "  </thead>\n",
       "  <tbody>\n",
       "    <tr>\n",
       "      <th>0</th>\n",
       "      <td>37</td>\n",
       "      <td>9</td>\n",
       "      <td>65.6</td>\n",
       "      <td>593.30</td>\n",
       "      <td>974.81</td>\n",
       "      <td>1</td>\n",
       "      <td>0</td>\n",
       "      <td>0</td>\n",
       "      <td>1</td>\n",
       "      <td>0</td>\n",
       "      <td>...</td>\n",
       "      <td>0</td>\n",
       "      <td>1</td>\n",
       "      <td>0</td>\n",
       "      <td>1</td>\n",
       "      <td>0</td>\n",
       "      <td>0</td>\n",
       "      <td>1</td>\n",
       "      <td>0</td>\n",
       "      <td>1</td>\n",
       "      <td>0</td>\n",
       "    </tr>\n",
       "    <tr>\n",
       "      <th>1</th>\n",
       "      <td>46</td>\n",
       "      <td>9</td>\n",
       "      <td>-4.0</td>\n",
       "      <td>542.40</td>\n",
       "      <td>610.28</td>\n",
       "      <td>0</td>\n",
       "      <td>1</td>\n",
       "      <td>1</td>\n",
       "      <td>0</td>\n",
       "      <td>0</td>\n",
       "      <td>...</td>\n",
       "      <td>1</td>\n",
       "      <td>0</td>\n",
       "      <td>1</td>\n",
       "      <td>0</td>\n",
       "      <td>0</td>\n",
       "      <td>1</td>\n",
       "      <td>0</td>\n",
       "      <td>0</td>\n",
       "      <td>1</td>\n",
       "      <td>0</td>\n",
       "    </tr>\n",
       "    <tr>\n",
       "      <th>2</th>\n",
       "      <td>50</td>\n",
       "      <td>4</td>\n",
       "      <td>73.9</td>\n",
       "      <td>280.85</td>\n",
       "      <td>415.45</td>\n",
       "      <td>0</td>\n",
       "      <td>1</td>\n",
       "      <td>1</td>\n",
       "      <td>0</td>\n",
       "      <td>0</td>\n",
       "      <td>...</td>\n",
       "      <td>0</td>\n",
       "      <td>1</td>\n",
       "      <td>1</td>\n",
       "      <td>0</td>\n",
       "      <td>0</td>\n",
       "      <td>0</td>\n",
       "      <td>1</td>\n",
       "      <td>1</td>\n",
       "      <td>0</td>\n",
       "      <td>0</td>\n",
       "    </tr>\n",
       "    <tr>\n",
       "      <th>3</th>\n",
       "      <td>78</td>\n",
       "      <td>13</td>\n",
       "      <td>98.0</td>\n",
       "      <td>1237.85</td>\n",
       "      <td>1599.51</td>\n",
       "      <td>0</td>\n",
       "      <td>1</td>\n",
       "      <td>0</td>\n",
       "      <td>1</td>\n",
       "      <td>0</td>\n",
       "      <td>...</td>\n",
       "      <td>0</td>\n",
       "      <td>1</td>\n",
       "      <td>1</td>\n",
       "      <td>0</td>\n",
       "      <td>0</td>\n",
       "      <td>0</td>\n",
       "      <td>1</td>\n",
       "      <td>1</td>\n",
       "      <td>0</td>\n",
       "      <td>0</td>\n",
       "    </tr>\n",
       "    <tr>\n",
       "      <th>4</th>\n",
       "      <td>75</td>\n",
       "      <td>3</td>\n",
       "      <td>83.9</td>\n",
       "      <td>267.40</td>\n",
       "      <td>289.54</td>\n",
       "      <td>1</td>\n",
       "      <td>0</td>\n",
       "      <td>0</td>\n",
       "      <td>1</td>\n",
       "      <td>0</td>\n",
       "      <td>...</td>\n",
       "      <td>0</td>\n",
       "      <td>1</td>\n",
       "      <td>1</td>\n",
       "      <td>0</td>\n",
       "      <td>0</td>\n",
       "      <td>0</td>\n",
       "      <td>1</td>\n",
       "      <td>0</td>\n",
       "      <td>1</td>\n",
       "      <td>0</td>\n",
       "    </tr>\n",
       "  </tbody>\n",
       "</table>\n",
       "<p>5 rows × 43 columns</p>\n",
       "</div>"
      ],
      "text/plain": [
       "   age  tenure  monthly_charge  total_charges  total_revenue  gender_Female  \\\n",
       "0   37       9            65.6         593.30         974.81              1   \n",
       "1   46       9            -4.0         542.40         610.28              0   \n",
       "2   50       4            73.9         280.85         415.45              0   \n",
       "3   78      13            98.0        1237.85        1599.51              0   \n",
       "4   75       3            83.9         267.40         289.54              1   \n",
       "\n",
       "   gender_Male  married_No  married_Yes  phone_service_No  ...  \\\n",
       "0            0           0            1                 0  ...   \n",
       "1            1           1            0                 0  ...   \n",
       "2            1           1            0                 0  ...   \n",
       "3            1           0            1                 0  ...   \n",
       "4            0           0            1                 0  ...   \n",
       "\n",
       "   unlimited_data_No  unlimited_data_Yes  contract_Month-to-Month  \\\n",
       "0                  0                   1                        0   \n",
       "1                  1                   0                        1   \n",
       "2                  0                   1                        1   \n",
       "3                  0                   1                        1   \n",
       "4                  0                   1                        1   \n",
       "\n",
       "   contract_One Year  contract_Two Year  paperless_billing_No  \\\n",
       "0                  1                  0                     0   \n",
       "1                  0                  0                     1   \n",
       "2                  0                  0                     0   \n",
       "3                  0                  0                     0   \n",
       "4                  0                  0                     0   \n",
       "\n",
       "   paperless_billing_Yes  payment_method_Bank Withdrawal  \\\n",
       "0                      1                               0   \n",
       "1                      0                               0   \n",
       "2                      1                               1   \n",
       "3                      1                               1   \n",
       "4                      1                               0   \n",
       "\n",
       "   payment_method_Credit Card  payment_method_Mailed Check  \n",
       "0                           1                            0  \n",
       "1                           1                            0  \n",
       "2                           0                            0  \n",
       "3                           0                            0  \n",
       "4                           1                            0  \n",
       "\n",
       "[5 rows x 43 columns]"
      ]
     },
     "execution_count": 28,
     "metadata": {},
     "output_type": "execute_result"
    }
   ],
   "source": [
    "y.head()\n",
    "X.head()"
   ]
  },
  {
   "cell_type": "markdown",
   "id": "4d3dfd25",
   "metadata": {
    "slideshow": {
     "slide_type": "subslide"
    }
   },
   "source": [
    "## A. Decision Tree"
   ]
  },
  {
   "cell_type": "code",
   "execution_count": 29,
   "id": "1e914169",
   "metadata": {
    "slideshow": {
     "slide_type": "fragment"
    }
   },
   "outputs": [],
   "source": [
    "# Creating a parameter grid for the model tuning\n",
    "param_grid = {\n",
    "    'max_leaf_nodes' : [5, 10, 15, 20, 25, 30, 35, 40],\n",
    "    'min_samples_leaf' : [1, 4, 9, 16, 25, 36, 49]\n",
    "}\n",
    "\n",
    "# Defining the base model for the cross validation\n",
    "tree_model = sklearn.tree.DecisionTreeClassifier()"
   ]
  },
  {
   "cell_type": "code",
   "execution_count": 30,
   "id": "339a1b23",
   "metadata": {
    "slideshow": {
     "slide_type": "fragment"
    }
   },
   "outputs": [],
   "source": [
    "# Running the grid search with 10 fold cross validation\n",
    "tree_gridsearch = sklearn.model_selection.GridSearchCV(\n",
    "    tree_model,\n",
    "    param_grid = param_grid,\n",
    "    cv = 10\n",
    ")"
   ]
  },
  {
   "cell_type": "code",
   "execution_count": 31,
   "id": "486abfcd",
   "metadata": {
    "slideshow": {
     "slide_type": "fragment"
    }
   },
   "outputs": [
    {
     "data": {
      "text/plain": [
       "GridSearchCV(cv=10, estimator=DecisionTreeClassifier(),\n",
       "             param_grid={'max_leaf_nodes': [5, 10, 15, 20, 25, 30, 35, 40],\n",
       "                         'min_samples_leaf': [1, 4, 9, 16, 25, 36, 49]})"
      ]
     },
     "execution_count": 31,
     "metadata": {},
     "output_type": "execute_result"
    }
   ],
   "source": [
    "# Fitting the grid search to the data\n",
    "tree_gridsearch.fit(X, y)"
   ]
  },
  {
   "cell_type": "markdown",
   "id": "ea0ebae6",
   "metadata": {
    "slideshow": {
     "slide_type": "subslide"
    }
   },
   "source": [
    "### Visualizing the performance of the gridsearch for Decision Tree"
   ]
  },
  {
   "cell_type": "code",
   "execution_count": 32,
   "id": "4caa3378",
   "metadata": {
    "slideshow": {
     "slide_type": "skip"
    }
   },
   "outputs": [],
   "source": [
    "tree_cv_perf_df = pd.DataFrame(tree_gridsearch.cv_results_)\n",
    "tree_cv_perf_df.param_max_leaf_nodes = tree_cv_perf_df.param_max_leaf_nodes.astype('int')"
   ]
  },
  {
   "cell_type": "code",
   "execution_count": 33,
   "id": "7cee06b9",
   "metadata": {
    "slideshow": {
     "slide_type": "skip"
    }
   },
   "outputs": [],
   "source": [
    "plot_tree_cv_perf = (\n",
    "    pn.ggplot(tree_cv_perf_df,\n",
    "              pn.aes(x = 'param_max_leaf_nodes', y = 'mean_test_score', color = 'param_min_samples_leaf')\n",
    "             )\n",
    "    + pn.geom_point()\n",
    "    + pn.geom_line()\n",
    "    + pn.theme_minimal()\n",
    "    + pn.labs(x = 'Max leaf nodes', y = 'Mean test scores', color = 'Min samples per leaf')\n",
    ")"
   ]
  },
  {
   "cell_type": "markdown",
   "id": "a398c5c2",
   "metadata": {
    "slideshow": {
     "slide_type": "fragment"
    }
   },
   "source": [
    "- The performance of the model intially improves with max_leaf_nodes and then starts detereorating after ~20 nodes\n",
    "- Moderate min_sample_leafs (~25) perform better than lower or higher minimum samples per leaf"
   ]
  },
  {
   "cell_type": "code",
   "execution_count": 34,
   "id": "24b84d6e",
   "metadata": {
    "slideshow": {
     "slide_type": "fragment"
    }
   },
   "outputs": [
    {
     "data": {
      "image/png": "[encoded data removed]",
      "text/plain": [
       "<Figure size 640x480 with 1 Axes>"
      ]
     },
     "metadata": {
      "needs_background": "light"
     },
     "output_type": "display_data"
    },
    {
     "data": {
      "text/plain": [
       "<ggplot: (142057498353)>"
      ]
     },
     "execution_count": 34,
     "metadata": {},
     "output_type": "execute_result"
    }
   ],
   "source": [
    "plot_tree_cv_perf"
   ]
  },
  {
   "cell_type": "markdown",
   "id": "e9194c59",
   "metadata": {
    "slideshow": {
     "slide_type": "subslide"
    }
   },
   "source": [
    "### Testing the out-of-sample accuracy of the best decision tree model"
   ]
  },
  {
   "cell_type": "code",
   "execution_count": 35,
   "id": "c05986d8",
   "metadata": {
    "slideshow": {
     "slide_type": "fragment"
    }
   },
   "outputs": [],
   "source": [
    "# Getting the best decision tree\n",
    "tree_best = tree_gridsearch.best_estimator_"
   ]
  },
  {
   "cell_type": "code",
   "execution_count": 36,
   "id": "d9aa4dbe",
   "metadata": {
    "slideshow": {
     "slide_type": "fragment"
    }
   },
   "outputs": [
    {
     "data": {
      "text/plain": [
       "DecisionTreeClassifier(max_leaf_nodes=20, min_samples_leaf=25)"
      ]
     },
     "execution_count": 36,
     "metadata": {},
     "output_type": "execute_result"
    }
   ],
   "source": [
    "# Splitting the data to get the train (75%) and test set (25%)\n",
    "X_train, X_test, y_train, y_test = sklearn.model_selection.train_test_split(X, y, test_size = 0.25, random_state = 99)\n",
    "tree_best.fit(X_train, y_train)"
   ]
  },
  {
   "cell_type": "code",
   "execution_count": 37,
   "id": "5c74c20c",
   "metadata": {
    "slideshow": {
     "slide_type": "fragment"
    }
   },
   "outputs": [
    {
     "name": "stdout",
     "output_type": "stream",
     "text": [
      "The out-of-sample accuracy of the decision tree model is 81.71%\n"
     ]
    }
   ],
   "source": [
    "# Getting the accuracy score for out-of-sample data\n",
    "tree_best_accuracy = sklearn.metrics.accuracy_score(y_test, tree_best.predict(X_test))\n",
    "print('The out-of-sample accuracy of the decision tree model is {:.2%}'.format(tree_best_accuracy))"
   ]
  },
  {
   "cell_type": "markdown",
   "id": "97a4df7e",
   "metadata": {
    "slideshow": {
     "slide_type": "subslide"
    }
   },
   "source": [
    "### Top 10 features of the decision tree model"
   ]
  },
  {
   "cell_type": "markdown",
   "id": "3f81c7ce",
   "metadata": {
    "slideshow": {
     "slide_type": "fragment"
    }
   },
   "source": [
    "- Month to month contract type and Fiber Optic internet service are among the top 10 features for the model\n",
    "- Need to further investigate the relationship of age with churn in the next steps"
   ]
  },
  {
   "cell_type": "code",
   "execution_count": 38,
   "id": "ab41ab07",
   "metadata": {
    "slideshow": {
     "slide_type": "skip"
    }
   },
   "outputs": [],
   "source": [
    "tree_top10_feature_df = (\n",
    "    pd.DataFrame({'Feature': tree_best.feature_names_in_,\n",
    "                  'Importance': tree_best.feature_importances_}\n",
    "                )\n",
    "    .sort_values(by = 'Importance', ascending= False)\n",
    "    .head(10)\n",
    ")\n",
    "tree_top10_feature_df['Feature'] = pd.Categorical(tree_top10_feature_df.Feature, categories=pd.unique(tree_top10_feature_df.Feature.iloc[::-1]), ordered=True)"
   ]
  },
  {
   "cell_type": "code",
   "execution_count": 39,
   "id": "77d218c7",
   "metadata": {
    "slideshow": {
     "slide_type": "skip"
    }
   },
   "outputs": [],
   "source": [
    "plot_tree_top10_feature = (\n",
    "    pn.ggplot(tree_top10_feature_df,\n",
    "              pn.aes(y = 'Feature', x = 'Importance')\n",
    "             )\n",
    "    + pn.geom_point()\n",
    "    + pn.theme(axis_text_x=pn.element_text(angle = 90))\n",
    "    + pn.theme_minimal()\n",
    ")"
   ]
  },
  {
   "cell_type": "code",
   "execution_count": 40,
   "id": "b9572fff",
   "metadata": {
    "slideshow": {
     "slide_type": "fragment"
    }
   },
   "outputs": [
    {
     "data": {
      "image/png": "[encoded data removed]",
      "text/plain": [
       "<Figure size 640x480 with 1 Axes>"
      ]
     },
     "metadata": {
      "needs_background": "light"
     },
     "output_type": "display_data"
    },
    {
     "data": {
      "text/plain": [
       "<ggplot: (142056819435)>"
      ]
     },
     "execution_count": 40,
     "metadata": {},
     "output_type": "execute_result"
    }
   ],
   "source": [
    "plot_tree_top10_feature"
   ]
  },
  {
   "cell_type": "markdown",
   "id": "cfb328a9",
   "metadata": {
    "slideshow": {
     "slide_type": "subslide"
    }
   },
   "source": [
    "## B. XGB Classifier"
   ]
  },
  {
   "cell_type": "code",
   "execution_count": 62,
   "id": "bcd15f29",
   "metadata": {
    "slideshow": {
     "slide_type": "fragment"
    }
   },
   "outputs": [],
   "source": [
    "# Creating a parameter grid to tune the XGB model\n",
    "param_grid = {\n",
    "    'max_depth': range (5, 20, 5),\n",
    "    'n_estimators': range(50, 200, 50),\n",
    "    'learning_rate': [.001, .01, .1]\n",
    "}"
   ]
  },
  {
   "cell_type": "code",
   "execution_count": 63,
   "id": "ec9cc9d5",
   "metadata": {
    "slideshow": {
     "slide_type": "fragment"
    }
   },
   "outputs": [
    {
     "data": {
      "text/plain": [
       "GridSearchCV(cv=5,\n",
       "             estimator=XGBClassifier(base_score=None, booster=None,\n",
       "                                     callbacks=None, colsample_bylevel=None,\n",
       "                                     colsample_bynode=None,\n",
       "                                     colsample_bytree=None,\n",
       "                                     early_stopping_rounds=None,\n",
       "                                     enable_categorical=False, eval_metric=None,\n",
       "                                     feature_types=None, gamma=None,\n",
       "                                     gpu_id=None, grow_policy=None,\n",
       "                                     importance_type=None,\n",
       "                                     interaction_constraints=None,\n",
       "                                     learning_rate=None,...\n",
       "                                     max_cat_threshold=None,\n",
       "                                     max_cat_to_onehot=None,\n",
       "                                     max_delta_step=None, max_depth=None,\n",
       "                                     max_leaves=None, min_child_weight=None,\n",
       "                                     missing=nan, monotone_constraints=None,\n",
       "                                     n_estimators=100, n_jobs=None,\n",
       "                                     num_parallel_tree=None, predictor=None,\n",
       "                                     random_state=None, ...),\n",
       "             n_jobs=-1,\n",
       "             param_grid={'learning_rate': [0.001, 0.01, 0.1],\n",
       "                         'max_depth': range(5, 20, 5),\n",
       "                         'n_estimators': range(50, 200, 50)})"
      ]
     },
     "execution_count": 63,
     "metadata": {},
     "output_type": "execute_result"
    }
   ],
   "source": [
    "# Setting up a base XGB classifier model\n",
    "xgb_model = xgb.XGBClassifier()\n",
    "\n",
    "# Gridsearch for the best xgb model with 5 fold cross-validation\n",
    "xgb_gridsearch = sklearn.model_selection.GridSearchCV(xgb_model,\n",
    "                                                      param_grid = param_grid,\n",
    "                                                      cv = 5,\n",
    "                                                      n_jobs=-1\n",
    "                                                     )\n",
    "\n",
    "# Fitting the gridsearch to the data\n",
    "xgb_gridsearch.fit(X,y)"
   ]
  },
  {
   "cell_type": "markdown",
   "id": "2ef961fc",
   "metadata": {
    "slideshow": {
     "slide_type": "subslide"
    }
   },
   "source": [
    "### Visualizing the performance of the gridsearch for XGB"
   ]
  },
  {
   "cell_type": "code",
   "execution_count": 64,
   "id": "08af1682",
   "metadata": {
    "slideshow": {
     "slide_type": "skip"
    }
   },
   "outputs": [],
   "source": [
    "xgb_cv_perf_df = pd.DataFrame(xgb_gridsearch.cv_results_)\n",
    "xgb_cv_perf_df.param_max_depth = xgb_cv_perf_df.param_max_depth.astype(int)"
   ]
  },
  {
   "cell_type": "code",
   "execution_count": 65,
   "id": "5cb1368f",
   "metadata": {
    "slideshow": {
     "slide_type": "skip"
    }
   },
   "outputs": [],
   "source": [
    "plot_xgb_cv_perf = (\n",
    "    pn.ggplot(xgb_cv_perf_df,\n",
    "              pn.aes(x = 'param_max_depth', y = 'mean_test_score', color = 'param_learning_rate')\n",
    "             )\n",
    "    + pn.geom_point()\n",
    "    + pn.geom_line()\n",
    "    + pn.facet_wrap('param_n_estimators', labeller = 'label_both')\n",
    "    + pn.theme_minimal()\n",
    "    + pn.labs(x = 'Max depth', y = 'Mean test scores', color = 'Learning rate')\n",
    "\n",
    ")"
   ]
  },
  {
   "cell_type": "markdown",
   "id": "9885aae6",
   "metadata": {},
   "source": [
    "- Model performance is best at max depth of 5, learning rate of 0.1, and 50 estimators\n",
    "- The performance detereorates on further increase in the parameters"
   ]
  },
  {
   "cell_type": "code",
   "execution_count": 66,
   "id": "17d02aa8",
   "metadata": {
    "slideshow": {
     "slide_type": "fragment"
    }
   },
   "outputs": [
    {
     "data": {
      "image/png": "[encoded data removed]",
      "text/plain": [
       "<Figure size 640x480 with 3 Axes>"
      ]
     },
     "metadata": {
      "needs_background": "light"
     },
     "output_type": "display_data"
    },
    {
     "data": {
      "text/plain": [
       "<ggplot: (142058177636)>"
      ]
     },
     "execution_count": 66,
     "metadata": {},
     "output_type": "execute_result"
    }
   ],
   "source": [
    "plot_xgb_cv_perf"
   ]
  },
  {
   "cell_type": "markdown",
   "id": "4b7fd001",
   "metadata": {
    "slideshow": {
     "slide_type": "subslide"
    }
   },
   "source": [
    "### Testing the out-of-sample accuracy of the best XGB model"
   ]
  },
  {
   "cell_type": "code",
   "execution_count": 67,
   "id": "ee7f6598",
   "metadata": {
    "slideshow": {
     "slide_type": "fragment"
    }
   },
   "outputs": [],
   "source": [
    "# Getting the best estimator model from the gridsearch\n",
    "xgb_best = xgb_gridsearch.best_estimator_"
   ]
  },
  {
   "cell_type": "code",
   "execution_count": 68,
   "id": "d6642e06",
   "metadata": {
    "slideshow": {
     "slide_type": "fragment"
    }
   },
   "outputs": [
    {
     "data": {
      "text/plain": [
       "XGBClassifier(base_score=0.5, booster='gbtree', callbacks=None,\n",
       "              colsample_bylevel=1, colsample_bynode=1, colsample_bytree=1,\n",
       "              early_stopping_rounds=None, enable_categorical=False,\n",
       "              eval_metric=None, feature_types=None, gamma=0, gpu_id=-1,\n",
       "              grow_policy='depthwise', importance_type=None,\n",
       "              interaction_constraints='', learning_rate=0.1, max_bin=256,\n",
       "              max_cat_threshold=64, max_cat_to_onehot=4, max_delta_step=0,\n",
       "              max_depth=5, max_leaves=0, min_child_weight=1, missing=nan,\n",
       "              monotone_constraints='()', n_estimators=50, n_jobs=0,\n",
       "              num_parallel_tree=1, predictor='auto', random_state=0, ...)"
      ]
     },
     "execution_count": 68,
     "metadata": {},
     "output_type": "execute_result"
    }
   ],
   "source": [
    "# Splitting the data to get the train (75%) and test set (25%)\n",
    "X_train, X_test, y_train, y_test = sklearn.model_selection.train_test_split(X, y, test_size = 0.25, random_state = 99)\n",
    "xgb_best.fit(X_train, y_train)"
   ]
  },
  {
   "cell_type": "code",
   "execution_count": 69,
   "id": "466caa53",
   "metadata": {
    "slideshow": {
     "slide_type": "fragment"
    }
   },
   "outputs": [
    {
     "name": "stdout",
     "output_type": "stream",
     "text": [
      "The out-of-sample accuracy of the best xgb model is 82.74%\n"
     ]
    }
   ],
   "source": [
    "# Getting the accuracy for the out-of-sample data\n",
    "xgb_best_accuracy = sklearn.metrics.accuracy_score(xgb_best.predict(X_test), y_test)\n",
    "print('The out-of-sample accuracy of the best xgb model is {:.2%}'.format(xgb_best_accuracy))"
   ]
  },
  {
   "cell_type": "markdown",
   "id": "988551a7",
   "metadata": {
    "slideshow": {
     "slide_type": "subslide"
    }
   },
   "source": [
    "### Top 10 features of the XGB model"
   ]
  },
  {
   "cell_type": "markdown",
   "id": "3d2f7585",
   "metadata": {
    "slideshow": {
     "slide_type": "fragment"
    }
   },
   "source": [
    "- Monthly charge and age are the top 2 features for the XGB model\n",
    "- Need to investigate the impact of the fiber optics service based on the exploration done above"
   ]
  },
  {
   "cell_type": "code",
   "execution_count": 70,
   "id": "5548ae5e",
   "metadata": {
    "slideshow": {
     "slide_type": "fragment"
    }
   },
   "outputs": [
    {
     "data": {
      "text/plain": [
       "<AxesSubplot:title={'center':'Feature importance'}, xlabel='F score', ylabel='Features'>"
      ]
     },
     "execution_count": 70,
     "metadata": {},
     "output_type": "execute_result"
    },
    {
     "data": {
      "image/png": "[encoded data removed]",
      "text/plain": [
       "<Figure size 432x288 with 1 Axes>"
      ]
     },
     "metadata": {
      "needs_background": "light"
     },
     "output_type": "display_data"
    }
   ],
   "source": [
    "xgb.plot_importance(xgb_best, max_num_features=10)"
   ]
  },
  {
   "cell_type": "code",
   "execution_count": null,
   "id": "5b6d4cfd",
   "metadata": {
    "slideshow": {
     "slide_type": "skip"
    }
   },
   "outputs": [],
   "source": [
    "import matplotlib"
   ]
  },
  {
   "cell_type": "code",
   "execution_count": null,
   "id": "c83d2c16",
   "metadata": {
    "slideshow": {
     "slide_type": "skip"
    }
   },
   "outputs": [],
   "source": [
    "xgb.plot_tree(xgb_best)\n",
    "fig = matplotlib.pyplot.gcf()\n",
    "fig.set_size_inches(300, 200)"
   ]
  },
  {
   "cell_type": "code",
   "execution_count": null,
   "id": "f863e69e",
   "metadata": {
    "slideshow": {
     "slide_type": "skip"
    }
   },
   "outputs": [],
   "source": [
    "fig.savefig('xgb_tree.png')"
   ]
  },
  {
   "cell_type": "markdown",
   "id": "23f4e45c",
   "metadata": {
    "slideshow": {
     "slide_type": "slide"
    }
   },
   "source": [
    "# 5. Next Steps"
   ]
  },
  {
   "cell_type": "markdown",
   "id": "9b639d6e",
   "metadata": {
    "slideshow": {
     "slide_type": "notes"
    }
   },
   "source": [
    "A. What benefits do you anticipate for your stakeholders?\n",
    "B. What are the resources required? How will those resources be allocated?\n",
    "a. Your time costs, in full-time-equivalent (FTE) months?\n",
    "b. Total human annotation costs, annotator FTE months and monthly wage\n",
    "c. Total engineering costs, professional programmer FTE months and wage\n",
    "d. Additional monetary costs (e.g., data purchase)\n",
    "e. If nontrivial: total storage (GB), RAM (GB), computation (core-hours)\n",
    "C. What are the data inputs for this ideal analysis?\n",
    "D. What is the planned output for this ideal analysis? Be as specific as possible.\n",
    "E. What is your strategy for transforming inputs into outputs? Be as specific as possible.\n",
    "F. What problems do you anticipate? What are your plans for addressing them?"
   ]
  }
 ],
 "metadata": {
  "celltoolbar": "Slideshow",
  "kernelspec": {
   "display_name": "Python 3 (ipykernel)",
   "language": "python",
   "name": "python3"
  },
  "language_info": {
   "codemirror_mode": {
    "name": "ipython",
    "version": 3
   },
   "file_extension": ".py",
   "mimetype": "text/x-python",
   "name": "python",
   "nbconvert_exporter": "python",
   "pygments_lexer": "ipython3",
   "version": "3.9.12"
  }
 },
 "nbformat": 4,
 "nbformat_minor": 5
}
